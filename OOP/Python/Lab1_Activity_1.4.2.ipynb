{
 "cells": [
  {
   "cell_type": "markdown",
   "metadata": {},
   "source": [
    "# Lab1_Activity_1.4.2\n",
    "###                     <b>*Coded By: Tameem*</b> "
   ]
  },
  {
   "cell_type": "markdown",
   "metadata": {},
   "source": [
    "### Creating the Class"
   ]
  },
  {
   "cell_type": "code",
   "execution_count": 1,
   "metadata": {},
   "outputs": [],
   "source": [
    "class Point:\n",
    "    def __init__(self) -> None:\n",
    "        self.x = 0\n",
    "        self.y = 0\n",
    "    def __init__(self, xx, yy) -> None:\n",
    "        self.x = xx\n",
    "        self.y = yy\n",
    "    def setX(self, xx):\n",
    "        self.x = xx\n",
    "    def setY(self, yy):\n",
    "        self.y = yy\n",
    "    def getX(self):\n",
    "        return self.x\n",
    "    def getY(self):\n",
    "        return self.y\n",
    "    def display(self):\n",
    "        print(\"\\n(\",self.x,\",\",self.y,\")\")\n",
    "    "
   ]
  },
  {
   "cell_type": "markdown",
   "metadata": {},
   "source": [
    "### Main Function"
   ]
  },
  {
   "cell_type": "code",
   "execution_count": 2,
   "metadata": {},
   "outputs": [
    {
     "name": "stdout",
     "output_type": "stream",
     "text": [
      "\n",
      "( 1 , 3 )\n",
      "X = 7\n",
      "Y = 9\n",
      "\n",
      "( 7 , 9 )\n"
     ]
    }
   ],
   "source": [
    "def main():\n",
    "    point = Point(1,3)\n",
    "    point.display()\n",
    "    point.setX(7)\n",
    "    point.setY(9)\n",
    "    print(\"X = \" + str(point.getX()))\n",
    "    print(\"Y = \" + str(point.getY()))\n",
    "    point.display()\n",
    "if __name__ == \"__main__\":\n",
    "    main()"
   ]
  }
 ],
 "metadata": {
  "kernelspec": {
   "display_name": "Python 3.10.6 64-bit",
   "language": "python",
   "name": "python3"
  },
  "language_info": {
   "codemirror_mode": {
    "name": "ipython",
    "version": 3
   },
   "file_extension": ".py",
   "mimetype": "text/x-python",
   "name": "python",
   "nbconvert_exporter": "python",
   "pygments_lexer": "ipython3",
   "version": "3.10.6"
  },
  "orig_nbformat": 4,
  "vscode": {
   "interpreter": {
    "hash": "8bb9c13b13d68a1688b0cf0af74b00dd800cf0940e7423a420c99f426fbc5233"
   }
  }
 },
 "nbformat": 4,
 "nbformat_minor": 2
}
