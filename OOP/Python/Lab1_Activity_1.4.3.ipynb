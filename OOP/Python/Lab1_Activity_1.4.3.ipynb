{
 "cells": [
  {
   "cell_type": "markdown",
   "metadata": {},
   "source": [
    "# Lab1_Activity_1.4.3\n",
    "###                     <b>*Coded By: Tameem*</b> \n",
    "### Class"
   ]
  },
  {
   "cell_type": "code",
   "execution_count": 1,
   "metadata": {},
   "outputs": [],
   "source": [
    "class BankAccount:\n",
    "    def __init__(self, acc_name, bal = 1000) -> None:\n",
    "        self.name = acc_name\n",
    "        self.balance = bal\n",
    "    def deposit(self, amount):\n",
    "        self.balance += amount\n",
    "    def withdraw(self, amount):\n",
    "        if(self.balance >  500 and self.balance >= amount):\n",
    "            self.balance -= amount\n",
    "        else:\n",
    "            print(\"Insufficeint Balance.\")\n",
    "            \n",
    "    def display(self):\n",
    "        print(\"Account : \", self.name,\"\\nBalance : \",self.balance)"
   ]
  },
  {
   "cell_type": "markdown",
   "metadata": {},
   "source": [
    "Main Class"
   ]
  },
  {
   "cell_type": "code",
   "execution_count": 2,
   "metadata": {},
   "outputs": [
    {
     "name": "stdout",
     "output_type": "stream",
     "text": [
      "Insufficeint Balance.\n",
      "Account :  Tameem \n",
      "Balance :  500\n"
     ]
    }
   ],
   "source": [
    "def main():\n",
    "    name = input(\"Enter Name: \")\n",
    "    account =  BankAccount(name)\n",
    "    account.deposit(500)\n",
    "    account.withdraw(1600)\n",
    "    account.withdraw(1000)\n",
    "    account.display()\n",
    "    \n",
    "if __name__==\"__main__\":\n",
    "    main()"
   ]
  }
 ],
 "metadata": {
  "kernelspec": {
   "display_name": "Python 3.10.6 64-bit",
   "language": "python",
   "name": "python3"
  },
  "language_info": {
   "codemirror_mode": {
    "name": "ipython",
    "version": 3
   },
   "file_extension": ".py",
   "mimetype": "text/x-python",
   "name": "python",
   "nbconvert_exporter": "python",
   "pygments_lexer": "ipython3",
   "version": "3.10.6"
  },
  "orig_nbformat": 4,
  "vscode": {
   "interpreter": {
    "hash": "8bb9c13b13d68a1688b0cf0af74b00dd800cf0940e7423a420c99f426fbc5233"
   }
  }
 },
 "nbformat": 4,
 "nbformat_minor": 2
}
