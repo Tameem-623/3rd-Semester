{
 "cells": [
  {
   "cell_type": "markdown",
   "metadata": {},
   "source": [
    "# <b>Lab6_Activity_6.3.2</b>\n",
    "## Inheritance : Multiple \n",
    "###                     <b>*Coded By: Tameem*</b> \n",
    "\n",
    "Creating a Base Class"
   ]
  },
  {
   "cell_type": "code",
   "execution_count": 5,
   "metadata": {},
   "outputs": [],
   "source": [
    "class Base:\n",
    "    def __init__(self) -> None:\n",
    "        self.ba = 0\n",
    "    def input_base(self):\n",
    "        self.ba = input(\"Enter Ba : \")\n",
    "    def show_base(self):\n",
    "        print(\"Base : \", self.ba)\n",
    "    def getB(self):\n",
    "        return int(self.ba)"
   ]
  },
  {
   "cell_type": "markdown",
   "metadata": {},
   "source": [
    "Creating an Exp Class "
   ]
  },
  {
   "cell_type": "code",
   "execution_count": 6,
   "metadata": {},
   "outputs": [],
   "source": [
    "class exponent:\n",
    "    def __init__(self) -> None:\n",
    "        self.exp = 0\n",
    "    def exp_input(self):\n",
    "        self.exp = input(\"Enter exp : \")\n",
    "    def show_exp(self):\n",
    "        print(\"Exp : \", self.exp)\n",
    "    def getE(self):\n",
    "        return int(self.exp)"
   ]
  },
  {
   "cell_type": "markdown",
   "metadata": {},
   "source": [
    "Create a Power Class from Exp & base Class"
   ]
  },
  {
   "cell_type": "code",
   "execution_count": 7,
   "metadata": {},
   "outputs": [],
   "source": [
    "class power(Base, exponent):\n",
    "    def __init__(self) -> None:\n",
    "        super().__init__()\n",
    "        self.po = 1\n",
    "    def in1(self):\n",
    "        super().input_base()\n",
    "        super().exp_input()\n",
    "    def show1(self):\n",
    "        super().show_base()\n",
    "        super().show_exp()\n",
    "        # print(pow(super().getB(),super().getE()))\n",
    "        # self.po = pow(Base().ba,exponent().exp)\n",
    "        self.po = pow(super().getB(),super().getE())\n",
    "        print(\"Power : \", self.po)"
   ]
  },
  {
   "cell_type": "markdown",
   "metadata": {},
   "source": [
    "Main Function"
   ]
  },
  {
   "cell_type": "code",
   "execution_count": 8,
   "metadata": {},
   "outputs": [
    {
     "name": "stdout",
     "output_type": "stream",
     "text": [
      "Base :  2\n",
      "Exp :  10\n",
      "Power :  1024\n"
     ]
    }
   ],
   "source": [
    "def main():\n",
    "    p1 = power()\n",
    "    p1.in1()\n",
    "    p1.show1()\n",
    "if __name__== \"__main__\":\n",
    "    main()"
   ]
  }
 ],
 "metadata": {
  "kernelspec": {
   "display_name": "Python 3.10.6 64-bit",
   "language": "python",
   "name": "python3"
  },
  "language_info": {
   "codemirror_mode": {
    "name": "ipython",
    "version": 3
   },
   "file_extension": ".py",
   "mimetype": "text/x-python",
   "name": "python",
   "nbconvert_exporter": "python",
   "pygments_lexer": "ipython3",
   "version": "3.10.6"
  },
  "orig_nbformat": 4,
  "vscode": {
   "interpreter": {
    "hash": "8bb9c13b13d68a1688b0cf0af74b00dd800cf0940e7423a420c99f426fbc5233"
   }
  }
 },
 "nbformat": 4,
 "nbformat_minor": 2
}
