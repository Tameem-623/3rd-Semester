{
 "cells": [
  {
   "cell_type": "markdown",
   "metadata": {},
   "source": [
    "# Lab4_Activity_4.5.1\n",
    "## Shallow Copy and Deep Copy  \n",
    "##"
   ]
  },
  {
   "cell_type": "markdown",
   "metadata": {},
   "source": [
    "Import Copy Library"
   ]
  },
  {
   "cell_type": "code",
   "execution_count": 1,
   "metadata": {},
   "outputs": [],
   "source": [
    "import copy"
   ]
  },
  {
   "cell_type": "markdown",
   "metadata": {},
   "source": [
    "Create Class"
   ]
  },
  {
   "cell_type": "code",
   "execution_count": 2,
   "metadata": {},
   "outputs": [],
   "source": [
    "class employee:\n",
    "    def __init__(self,a,b,c,d) -> None:\n",
    "        self.name = a\n",
    "        self.department = b\n",
    "        self.salary = c\n",
    "        self.period_of_service = d\n",
    "\n",
    "    def dataIn(self):\n",
    "        self.name = input(\"Enter Name : \")\n",
    "        self.department = input(\"Enter Depart. : \")\n",
    "        self.salary  = input(\"Enter Salary : \")\n",
    "        self.period_of_service = input(\"Enter service period : \")\n",
    "\n",
    "    def show(self):\n",
    "        print(\"\\n\\nName : \",self.name, \"\\nDepartment : \",self.department)\n",
    "        print(\"Salary : \",self.salary,\"\\nService Period : \",self.period_of_service)\n",
    "        "
   ]
  },
  {
   "cell_type": "markdown",
   "metadata": {},
   "source": [
    "Main Class"
   ]
  },
  {
   "cell_type": "code",
   "execution_count": 3,
   "metadata": {},
   "outputs": [
    {
     "name": "stdout",
     "output_type": "stream",
     "text": [
      "\n",
      "\n",
      "Name :  TeeDee \n",
      "Department :  DCSE\n",
      "Salary :  3241 \n",
      "Service Period :  1\n",
      "\n",
      "\n",
      "Name :  TeeDee \n",
      "Department :  DCSE\n",
      "Salary :  3241 \n",
      "Service Period :  1\n",
      "\n",
      "\n",
      "Name :  TeeDee \n",
      "Department :  DCSE\n",
      "Salary :  3241 \n",
      "Service Period :  1\n"
     ]
    }
   ],
   "source": [
    "def main():\n",
    "    e1 = employee(\"TeeDee\",\"DCSE\",3241,1)\n",
    "    e1.show()\n",
    "\n",
    "    e2 = copy.copy(e1)\n",
    "    e2.show()\n",
    "\n",
    "    e3 = copy.deepcopy(e1)\n",
    "    e3.show()\n",
    "    \n",
    "if __name__ == \"__main__\":\n",
    "    main()"
   ]
  },
  {
   "cell_type": "code",
   "execution_count": null,
   "metadata": {},
   "outputs": [],
   "source": []
  }
 ],
 "metadata": {
  "kernelspec": {
   "display_name": "Python 3.10.6 64-bit",
   "language": "python",
   "name": "python3"
  },
  "language_info": {
   "codemirror_mode": {
    "name": "ipython",
    "version": 3
   },
   "file_extension": ".py",
   "mimetype": "text/x-python",
   "name": "python",
   "nbconvert_exporter": "python",
   "pygments_lexer": "ipython3",
   "version": "3.10.6"
  },
  "orig_nbformat": 4,
  "vscode": {
   "interpreter": {
    "hash": "8bb9c13b13d68a1688b0cf0af74b00dd800cf0940e7423a420c99f426fbc5233"
   }
  }
 },
 "nbformat": 4,
 "nbformat_minor": 2
}
