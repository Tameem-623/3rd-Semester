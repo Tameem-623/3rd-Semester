{
 "cells": [
  {
   "cell_type": "markdown",
   "metadata": {},
   "source": [
    "# <b>Lab1_Activity_1.4.1</b>\n",
    "###                     <b>*Coded By: Tameem*</b> "
   ]
  },
  {
   "cell_type": "markdown",
   "metadata": {},
   "source": [
    "### Defining the Required Class"
   ]
  },
  {
   "cell_type": "code",
   "execution_count": 1,
   "metadata": {},
   "outputs": [],
   "source": [
    "class Heater:\n",
    "    def __init__(self):\n",
    "        self.temperature = 15\n",
    "    def warmer(self):\n",
    "        self.temperature += 5\n",
    "    def cooler(self):\n",
    "        self.temperature -= 5\n",
    "    def accessor(self):\n",
    "        return self.temperature"
   ]
  },
  {
   "cell_type": "markdown",
   "metadata": {},
   "source": [
    "### Main Function "
   ]
  },
  {
   "cell_type": "code",
   "execution_count": 2,
   "metadata": {},
   "outputs": [
    {
     "name": "stdout",
     "output_type": "stream",
     "text": [
      "The temperature is :  15\n"
     ]
    }
   ],
   "source": [
    "def main():\n",
    "    heater = Heater()\n",
    "    # Increase the temperature\n",
    "    heater.warmer()\n",
    "    # Decreasee the temperature \n",
    "    heater.cooler()\n",
    "    # Show the temperature\n",
    "    print(\"The temperature is : \",heater.accessor())\n",
    "if __name__ == \"__main__\":\n",
    "    main()"
   ]
  }
 ],
 "metadata": {
  "kernelspec": {
   "display_name": "Python 3.10.6 64-bit",
   "language": "python",
   "name": "python3"
  },
  "language_info": {
   "codemirror_mode": {
    "name": "ipython",
    "version": 3
   },
   "file_extension": ".py",
   "mimetype": "text/x-python",
   "name": "python",
   "nbconvert_exporter": "python",
   "pygments_lexer": "ipython3",
   "version": "3.10.6"
  },
  "orig_nbformat": 4,
  "vscode": {
   "interpreter": {
    "hash": "8bb9c13b13d68a1688b0cf0af74b00dd800cf0940e7423a420c99f426fbc5233"
   }
  }
 },
 "nbformat": 4,
 "nbformat_minor": 2
}
