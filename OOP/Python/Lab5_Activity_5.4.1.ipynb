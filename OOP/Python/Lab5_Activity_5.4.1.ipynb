{
 "cells": [
  {
   "cell_type": "markdown",
   "metadata": {},
   "source": [
    "# <b>Lab5_Activity5.4.1</b>\n",
    "## Inheritance\n",
    "###                     <b>*Coded By: Tameem*</b> \n",
    "\n",
    "Creating a Base Class"
   ]
  },
  {
   "cell_type": "code",
   "execution_count": 1,
   "metadata": {},
   "outputs": [],
   "source": [
    "class Point:\n",
    "    def __init__(self, xx, yy) -> None:\n",
    "        self.x = xx\n",
    "        self.y = yy\n",
    "    def setX(self, xx):\n",
    "        self.x = xx\n",
    "    def setY(self, yy):\n",
    "        self.y = yy\n",
    "    def getX(self):\n",
    "        return self.x\n",
    "    def getY(self):\n",
    "        return self.y\n",
    "    def display(self):\n",
    "        print(\"\\n(\",self.x,\",\",self.y,\")\")\n",
    "    "
   ]
  },
  {
   "cell_type": "markdown",
   "metadata": {},
   "source": [
    "Derive a Circle Class from Point Class"
   ]
  },
  {
   "cell_type": "code",
   "execution_count": 2,
   "metadata": {},
   "outputs": [],
   "source": [
    "class Circle(Point):\n",
    "    def __init__(self, point , rr=0) -> None:\n",
    "        super().__init__(point.x, point.y)\n",
    "        self.radius = rr\n",
    "    def setRR(self, rr):\n",
    "        self.radius = rr\n",
    "    def getRR(self):\n",
    "        return self.radius\n",
    "    def calculate_radius(self):\n",
    "        return self.radius\n",
    "    def calculate_circum(self):\n",
    "        return self.radius*2*3.14"
   ]
  },
  {
   "cell_type": "markdown",
   "metadata": {},
   "source": [
    "Derive Cylinder Class from Point Class"
   ]
  },
  {
   "cell_type": "code",
   "execution_count": 3,
   "metadata": {},
   "outputs": [],
   "source": [
    "class Cylinder(Point):\n",
    "    def __init__(self, circle, hh) -> None:\n",
    "        super().__init__(circle.x, circle.y)\n",
    "        self.radius_cyl = circle.radius\n",
    "        self.height = hh\n",
    "        \n",
    "    def calculate_area(self, circle):\n",
    "        return (circle.calculate_circum()*self.height)+(circle.calculate_circum()*circle.radius)\n",
    "    def calculate_volume(self, circle):\n",
    "        return 3.14*self.height*circle.radius*circle.radius"
   ]
  },
  {
   "cell_type": "markdown",
   "metadata": {},
   "source": [
    "Main Class"
   ]
  },
  {
   "cell_type": "code",
   "execution_count": 4,
   "metadata": {},
   "outputs": [
    {
     "name": "stdout",
     "output_type": "stream",
     "text": [
      "\n",
      "( 1 , 2 )\n",
      "\n",
      "( 1 , 2 )\n",
      "Radius:  5\n",
      "Circum of Circle:  31.400000000000002\n",
      "\n",
      "( 7 , 7 )\n",
      "Area of Cylinder:  219.8\n",
      "Volume of Cylinder:  157.0\n"
     ]
    }
   ],
   "source": [
    "def main():\n",
    "    p1 = Point(1,2)\n",
    "    p1.display()\n",
    "\n",
    "    cir =Circle(p1,5)\n",
    "    cir.display()\n",
    "    print(\"Radius: \",cir.calculate_radius())\n",
    "    print(\"Circum of Circle: \", cir.calculate_circum())\n",
    "\n",
    "    cyl = Cylinder(cir, 2)\n",
    "    cyl.setX(7)\n",
    "    cyl.setY(7)\n",
    "    cyl.display()\n",
    "    print(\"Area of Cylinder: \",cyl.calculate_area(cir))\n",
    "    print(\"Volume of Cylinder: \",cyl.calculate_volume(cir))\n",
    "    \n",
    "if __name__== \"__main__\":\n",
    "    main()"
   ]
  }
 ],
 "metadata": {
  "kernelspec": {
   "display_name": "Python 3.10.6 64-bit",
   "language": "python",
   "name": "python3"
  },
  "language_info": {
   "codemirror_mode": {
    "name": "ipython",
    "version": 3
   },
   "file_extension": ".py",
   "mimetype": "text/x-python",
   "name": "python",
   "nbconvert_exporter": "python",
   "pygments_lexer": "ipython3",
   "version": "3.10.6"
  },
  "orig_nbformat": 4,
  "vscode": {
   "interpreter": {
    "hash": "8bb9c13b13d68a1688b0cf0af74b00dd800cf0940e7423a420c99f426fbc5233"
   }
  }
 },
 "nbformat": 4,
 "nbformat_minor": 2
}
