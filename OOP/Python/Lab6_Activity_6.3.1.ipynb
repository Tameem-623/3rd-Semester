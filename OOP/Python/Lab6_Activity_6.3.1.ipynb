{
 "cells": [
  {
   "cell_type": "markdown",
   "metadata": {},
   "source": [
    "# <b>Lab6_Activity_6.3.1</b>\n",
    "## Inheritance : MultiLevel\n",
    "###                     <b>*Coded By: Tameem*</b> \n",
    "\n",
    "Creating a Base Class"
   ]
  },
  {
   "cell_type": "code",
   "execution_count": 1,
   "metadata": {},
   "outputs": [],
   "source": [
    "class First:\n",
    "    def __init__(self) -> None:\n",
    "        self.f = 0\n",
    "    def in1(self):\n",
    "        self.f = input(\"Enter Value of f : \")"
   ]
  },
  {
   "cell_type": "markdown",
   "metadata": {},
   "source": [
    "Deriving Second Class from First Class "
   ]
  },
  {
   "cell_type": "code",
   "execution_count": 2,
   "metadata": {},
   "outputs": [],
   "source": [
    "class Second(First):\n",
    "    def __init__(self) -> None:\n",
    "        super().__init__()\n",
    "        self.s = 0\n",
    "    def in1(self):\n",
    "        super().in1()\n",
    "        self.s = input(\"Enter S : \")"
   ]
  },
  {
   "cell_type": "markdown",
   "metadata": {},
   "source": [
    "Deriving Third Class from Second Class"
   ]
  },
  {
   "cell_type": "code",
   "execution_count": 3,
   "metadata": {},
   "outputs": [],
   "source": [
    "class Third(Second):\n",
    "    def __init__(self) -> None:\n",
    "        super().__init__()\n",
    "        self.t = 0\n",
    "    def in1(self):\n",
    "        super().in1()\n",
    "        self.t = input(\"Enter T : \")\n",
    "    def maxfunc(self):\n",
    "        if(self.t > self.s and self.t > self.f):\n",
    "            return self.t\n",
    "        elif(self.s > self.t and self.s > self.f):\n",
    "            return self.s\n",
    "        else:\n",
    "            return self.f\n",
    "    def minfunc(self):\n",
    "        pass\n",
    "    def show(self):\n",
    "        print(\"(\",self.f, self.s, self.t,\")\")\n"
   ]
  },
  {
   "cell_type": "markdown",
   "metadata": {},
   "source": [
    "Main Class"
   ]
  },
  {
   "cell_type": "code",
   "execution_count": 4,
   "metadata": {},
   "outputs": [
    {
     "name": "stdout",
     "output_type": "stream",
     "text": [
      "( 5 6 7 )\n",
      "Max :  7\n"
     ]
    }
   ],
   "source": [
    "def main():\n",
    "    third = Third()\n",
    "    third.in1()\n",
    "    third.show()\n",
    "    print(\"Max : \",third.maxfunc())\n",
    "if __name__== \"__main__\":\n",
    "    main()"
   ]
  }
 ],
 "metadata": {
  "kernelspec": {
   "display_name": "Python 3.10.6 64-bit",
   "language": "python",
   "name": "python3"
  },
  "language_info": {
   "codemirror_mode": {
    "name": "ipython",
    "version": 3
   },
   "file_extension": ".py",
   "mimetype": "text/x-python",
   "name": "python",
   "nbconvert_exporter": "python",
   "pygments_lexer": "ipython3",
   "version": "3.10.6"
  },
  "orig_nbformat": 4,
  "vscode": {
   "interpreter": {
    "hash": "8bb9c13b13d68a1688b0cf0af74b00dd800cf0940e7423a420c99f426fbc5233"
   }
  }
 },
 "nbformat": 4,
 "nbformat_minor": 2
}
